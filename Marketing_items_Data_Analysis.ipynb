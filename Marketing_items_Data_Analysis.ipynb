{
  "cells": [
    {
      "cell_type": "markdown",
      "metadata": {
        "id": "view-in-github",
        "colab_type": "text"
      },
      "source": [
        "<a href=\"https://colab.research.google.com/github/Nataliia-data-analyst/Nataliia-data-analyst/blob/main/Marketing_items_Data_Analysis.ipynb\" target=\"_parent\"><img src=\"https://colab.research.google.com/assets/colab-badge.svg\" alt=\"Open In Colab\"/></a>"
      ]
    },
    {
      "cell_type": "code",
      "source": [
        "!pip install pandas"
      ],
      "metadata": {
        "id": "NLMN1n7UlnkB"
      },
      "id": "NLMN1n7UlnkB",
      "execution_count": null,
      "outputs": []
    },
    {
      "cell_type": "code",
      "execution_count": null,
      "id": "4bead388",
      "metadata": {
        "ExecuteTime": {
          "end_time": "2023-05-05T13:34:20.184240Z",
          "start_time": "2023-05-05T13:34:18.551240Z"
        },
        "id": "4bead388"
      },
      "outputs": [],
      "source": [
        "import pandas as pd\n",
        "import warnings\n",
        "import csv\n",
        "from datetime import datetime\n",
        "warnings.filterwarnings(\"ignore\")"
      ]
    },
    {
      "cell_type": "code",
      "source": [
        "from google.colab import drive\n",
        "drive.mount('/content/drive')"
      ],
      "metadata": {
        "id": "qeq8nm2zEa2b"
      },
      "id": "qeq8nm2zEa2b",
      "execution_count": null,
      "outputs": []
    },
    {
      "cell_type": "markdown",
      "source": [
        "So, we will be working with the \"Online Retail\" dataset. This dataset contains online store transactions and provides detailed information about purchases, including the invoice number, product code, quantity of items sold, date, product price, customer ID, and the buyer's country.\n",
        "\n",
        "The dataset from the [UCI Machine Learning Repository](https://archive.ics.uci.edu/dataset/352/online+retail), titled \"Online Retail\", contains transactional data of a UK-based online retail company. Below is the description of the columns in this dataset:\n",
        "\n",
        "InvoiceNo: A unique number assigned to each invoice. It indicates the specific transaction. If the invoice starts with a 'C', it denotes a cancellation.\n",
        "\n",
        "StockCode: A unique code assigned to each product (item) in the transaction.\n",
        "\n",
        "Description: A description of the product (item) associated with the StockCode.\n",
        "\n",
        "Quantity: The number of products (items) per transaction (can be negative for product returns).\n",
        "\n",
        "InvoiceDate: The date and time when the transaction occurred.\n",
        "\n",
        "UnitPrice: The price of a single product (item) at the time of the transaction.\n",
        "\n",
        "CustomerID: A unique identifier for each customer.\n",
        "\n",
        "Country: The country where the customer is located.\n",
        "\n",
        "This dataset contains transactions between 01/12/2010 and 09/12/2011, primarily involving wholesale customers across different countries."
      ],
      "metadata": {
        "id": "E-8ZBoF4QcOD"
      },
      "id": "E-8ZBoF4QcOD"
    },
    {
      "cell_type": "code",
      "source": [
        "df = pd.read_csv('/content/drive/MyDrive/PythonMarathon/Colab Notebooks/Online Retail.csv')"
      ],
      "metadata": {
        "id": "ODQSwpvNUuyS"
      },
      "id": "ODQSwpvNUuyS",
      "execution_count": null,
      "outputs": []
    },
    {
      "cell_type": "code",
      "source": [
        "type(df)"
      ],
      "metadata": {
        "id": "LiWjp_D5no-e"
      },
      "id": "LiWjp_D5no-e",
      "execution_count": null,
      "outputs": []
    },
    {
      "cell_type": "markdown",
      "source": [
        "View the first 5 records:"
      ],
      "metadata": {
        "id": "DNRojbWHnrDx"
      },
      "id": "DNRojbWHnrDx"
    },
    {
      "cell_type": "code",
      "source": [
        "df.head() # df.head(5)"
      ],
      "metadata": {
        "id": "cb-J3RSdnqLS"
      },
      "id": "cb-J3RSdnqLS",
      "execution_count": null,
      "outputs": []
    },
    {
      "cell_type": "markdown",
      "source": [
        "We can review specific rows in the data as follows:"
      ],
      "metadata": {
        "id": "1yN87rKxOwyk"
      },
      "id": "1yN87rKxOwyk"
    },
    {
      "cell_type": "code",
      "source": [
        "df[100:110]"
      ],
      "metadata": {
        "id": "AUmWTPnpOpcB"
      },
      "id": "AUmWTPnpOpcB",
      "execution_count": null,
      "outputs": []
    },
    {
      "cell_type": "markdown",
      "source": [
        "Let's display the first 3 rows of data from the variable df."
      ],
      "metadata": {
        "id": "2dN-qdFNARJq"
      },
      "id": "2dN-qdFNARJq"
    },
    {
      "cell_type": "code",
      "source": [
        "df.head(3)"
      ],
      "metadata": {
        "id": "7sowj7LqPjBh"
      },
      "id": "7sowj7LqPjBh",
      "execution_count": null,
      "outputs": []
    },
    {
      "cell_type": "markdown",
      "source": [
        "Let's display the rows of data from 2010 to 2015 from the variable df."
      ],
      "metadata": {
        "id": "-9rkYReHAuUj"
      },
      "id": "-9rkYReHAuUj"
    },
    {
      "cell_type": "code",
      "source": [
        "df[2010:2016]"
      ],
      "metadata": {
        "id": "1EU8c4a7PpxZ"
      },
      "id": "1EU8c4a7PpxZ",
      "execution_count": null,
      "outputs": []
    },
    {
      "cell_type": "markdown",
      "source": [
        "Let's find out some general characteristics of the columns."
      ],
      "metadata": {
        "id": "D3lp0JKPA9Zk"
      },
      "id": "D3lp0JKPA9Zk"
    },
    {
      "cell_type": "code",
      "execution_count": null,
      "id": "b925401d",
      "metadata": {
        "ExecuteTime": {
          "end_time": "2023-05-05T13:39:43.134853Z",
          "start_time": "2023-05-05T13:39:43.110770Z"
        },
        "id": "b925401d"
      },
      "outputs": [],
      "source": [
        "df.info()"
      ]
    },
    {
      "cell_type": "code",
      "source": [
        "type(df.StockCode.loc[0])"
      ],
      "metadata": {
        "id": "DBAxBOagmtua"
      },
      "id": "DBAxBOagmtua",
      "execution_count": null,
      "outputs": []
    },
    {
      "cell_type": "markdown",
      "source": [
        "Let's check the data types in each column, whether all data is filled, and how much memory the data occupies in RAM."
      ],
      "metadata": {
        "id": "ZUTkv8akBRQH"
      },
      "id": "ZUTkv8akBRQH"
    },
    {
      "cell_type": "code",
      "source": [
        "df.shape"
      ],
      "metadata": {
        "id": "lBpo0vabnf7Z"
      },
      "id": "lBpo0vabnf7Z",
      "execution_count": null,
      "outputs": []
    },
    {
      "cell_type": "markdown",
      "source": [
        "## Let's start the analysis!"
      ],
      "metadata": {
        "id": "lwjSNi1tBnN7"
      },
      "id": "lwjSNi1tBnN7"
    },
    {
      "cell_type": "markdown",
      "source": [
        "What countries are represented in this dataset?"
      ],
      "metadata": {
        "id": "jrjr-mN1Bzhd"
      },
      "id": "jrjr-mN1Bzhd"
    },
    {
      "cell_type": "code",
      "source": [
        "df.Country"
      ],
      "metadata": {
        "id": "UVFNe3EF9hXM"
      },
      "id": "UVFNe3EF9hXM",
      "execution_count": null,
      "outputs": []
    },
    {
      "cell_type": "markdown",
      "source": [
        "Let's **count how many times each country** is represented."
      ],
      "metadata": {
        "id": "3SyNlY529htx"
      },
      "id": "3SyNlY529htx"
    },
    {
      "cell_type": "code",
      "source": [
        "df.Country.value_counts()"
      ],
      "metadata": {
        "id": "qKZQVzw6Rt9A"
      },
      "id": "qKZQVzw6Rt9A",
      "execution_count": null,
      "outputs": []
    },
    {
      "cell_type": "markdown",
      "source": [
        "Let's take a look at the **last 5 countries**."
      ],
      "metadata": {
        "id": "f3LEha4kCLqz"
      },
      "id": "f3LEha4kCLqz"
    },
    {
      "cell_type": "code",
      "source": [
        "df.Country.value_counts()[-5:]"
      ],
      "metadata": {
        "id": "EDE4a2ctovrD"
      },
      "id": "EDE4a2ctovrD",
      "execution_count": null,
      "outputs": []
    },
    {
      "cell_type": "markdown",
      "source": [
        "Let's display the top 10 countries by the number of rows in the variable df, along with the corresponding number of rows."
      ],
      "metadata": {
        "id": "4yZ2VPSvCvf8"
      },
      "id": "4yZ2VPSvCvf8"
    },
    {
      "cell_type": "code",
      "source": [
        "df.Country.value_counts()[:10]"
      ],
      "metadata": {
        "id": "uNQwXpFAmAzj"
      },
      "id": "uNQwXpFAmAzj",
      "execution_count": null,
      "outputs": []
    },
    {
      "cell_type": "markdown",
      "source": [
        "What are **the most popular products** in the store?"
      ],
      "metadata": {
        "id": "tXU8AsRPC6cc"
      },
      "id": "tXU8AsRPC6cc"
    },
    {
      "cell_type": "code",
      "source": [
        "df.StockCode.value_counts()"
      ],
      "metadata": {
        "id": "XTPadYRQYHTW"
      },
      "id": "XTPadYRQYHTW",
      "execution_count": null,
      "outputs": []
    },
    {
      "cell_type": "markdown",
      "source": [
        "## Data filtering\n",
        "\n",
        "It would be interesting to find out what this popular product is. Let's take a look at the description."
      ],
      "metadata": {
        "id": "neaR_z4tDSqw"
      },
      "id": "neaR_z4tDSqw"
    },
    {
      "cell_type": "code",
      "source": [
        "df.StockCode=='85123A'"
      ],
      "metadata": {
        "id": "mrdQKNDCpcM0"
      },
      "id": "mrdQKNDCpcM0",
      "execution_count": null,
      "outputs": []
    },
    {
      "cell_type": "code",
      "source": [
        "df[df.StockCode=='85123A']"
      ],
      "metadata": {
        "id": "5AJdAhUNYPzD"
      },
      "id": "5AJdAhUNYPzD",
      "execution_count": null,
      "outputs": []
    },
    {
      "cell_type": "markdown",
      "source": [
        "We see that the descriptions are different. Let's check what descriptions exist and how many there are."
      ],
      "metadata": {
        "id": "6CWD56wrDoCS"
      },
      "id": "6CWD56wrDoCS"
    },
    {
      "cell_type": "code",
      "source": [
        "df[df.StockCode=='85123A'].Description.value_counts()"
      ],
      "metadata": {
        "id": "2p5W4QnN8n0x"
      },
      "id": "2p5W4QnN8n0x",
      "execution_count": null,
      "outputs": []
    },
    {
      "cell_type": "markdown",
      "source": [
        "We see that there are data entries where something went wrong (there are few of them, and they differ from the majority). We can manually correct or clean them if they are not needed for the analysis.\n",
        "\n",
        "Let's take a look at the other records."
      ],
      "metadata": {
        "id": "I94_awJNEG3d"
      },
      "id": "I94_awJNEG3d"
    },
    {
      "cell_type": "code",
      "source": [
        "df[df.StockCode==22423]"
      ],
      "metadata": {
        "id": "W74biQZKsUE6"
      },
      "id": "W74biQZKsUE6",
      "execution_count": null,
      "outputs": []
    },
    {
      "cell_type": "markdown",
      "source": [
        "Something went wrong. It seems that the value has a different type. How can we check this?"
      ],
      "metadata": {
        "id": "Nz1zFwi3ETpZ"
      },
      "id": "Nz1zFwi3ETpZ"
    },
    {
      "cell_type": "code",
      "source": [
        "df.StockCode.value_counts().index"
      ],
      "metadata": {
        "id": "A0Aol9a5ai57"
      },
      "id": "A0Aol9a5ai57",
      "execution_count": null,
      "outputs": []
    },
    {
      "cell_type": "markdown",
      "source": [
        "We see that the value 22423 is surrounded by quotes, which means it is a string and NOT a number. In Python, values in quotes are always strings."
      ],
      "metadata": {
        "id": "rIeydxXEEtUK"
      },
      "id": "rIeydxXEEtUK"
    },
    {
      "cell_type": "code",
      "source": [
        "type(22423), type('22423'), type('85123A')"
      ],
      "metadata": {
        "id": "ggKTrRTda-_g"
      },
      "id": "ggKTrRTda-_g",
      "execution_count": null,
      "outputs": []
    },
    {
      "cell_type": "code",
      "source": [
        "22423 != '22423'"
      ],
      "metadata": {
        "id": "lsVHdbn0-DAg"
      },
      "id": "lsVHdbn0-DAg",
      "execution_count": null,
      "outputs": []
    },
    {
      "cell_type": "markdown",
      "source": [
        "That's why our data wasn't filtered. Let's fix that!"
      ],
      "metadata": {
        "id": "6dEAAzwYFKF5"
      },
      "id": "6dEAAzwYFKF5"
    },
    {
      "cell_type": "code",
      "source": [
        "df[df.StockCode=='22423']"
      ],
      "metadata": {
        "id": "j1Gb1JmJb4_G"
      },
      "id": "j1Gb1JmJb4_G",
      "execution_count": null,
      "outputs": []
    },
    {
      "cell_type": "markdown",
      "source": [
        "Let's find out what descriptions the purchased goods with a **StockCode** value of **22423** have, and how many times each of the description values occurs?"
      ],
      "metadata": {
        "id": "20OnRrrmJMX7"
      },
      "id": "20OnRrrmJMX7"
    },
    {
      "cell_type": "code",
      "source": [
        "df[df.StockCode=='22423'].Description.value_counts()"
      ],
      "metadata": {
        "id": "k7zYVfErmUt9"
      },
      "id": "k7zYVfErmUt9",
      "execution_count": null,
      "outputs": []
    },
    {
      "cell_type": "code",
      "source": [],
      "metadata": {
        "id": "wjw57r3DKAdz"
      },
      "id": "wjw57r3DKAdz",
      "execution_count": null,
      "outputs": []
    },
    {
      "cell_type": "markdown",
      "source": [
        "Let's calculate the mean for the United Kingdom"
      ],
      "metadata": {
        "id": "iQiDCexYJxlx"
      },
      "id": "iQiDCexYJxlx"
    },
    {
      "cell_type": "code",
      "source": [
        "df[df.Country=='United Kingdom'][df.StockCode=='22423'].UnitPrice.mean()"
      ],
      "metadata": {
        "id": "Q_FhzzyC_SML"
      },
      "id": "Q_FhzzyC_SML",
      "execution_count": null,
      "outputs": []
    },
    {
      "cell_type": "markdown",
      "source": [
        "Let's calculate the mean for France"
      ],
      "metadata": {
        "id": "gBe27dLkJ0To"
      },
      "id": "gBe27dLkJ0To"
    },
    {
      "cell_type": "code",
      "source": [
        "df[df.Country=='France'][df.StockCode=='22423'].UnitPrice.mean()"
      ],
      "metadata": {
        "id": "K7l4n4ux_o15"
      },
      "id": "K7l4n4ux_o15",
      "execution_count": null,
      "outputs": []
    },
    {
      "cell_type": "markdown",
      "source": [
        "Let's calculate the mean for Germany"
      ],
      "metadata": {
        "id": "vUquf0hvJ1PM"
      },
      "id": "vUquf0hvJ1PM"
    },
    {
      "cell_type": "code",
      "source": [
        "df[df.Country=='Germany'][df.StockCode=='22423'].UnitPrice.mean()"
      ],
      "metadata": {
        "id": "PgIhatFN_tdC"
      },
      "id": "PgIhatFN_tdC",
      "execution_count": null,
      "outputs": []
    },
    {
      "cell_type": "markdown",
      "source": [
        "Let's find out what the average price of goods with a **StockCode** value of **22423** is in **Spain**"
      ],
      "metadata": {
        "id": "y4dYpsN8KMhP"
      },
      "id": "y4dYpsN8KMhP"
    },
    {
      "cell_type": "code",
      "source": [
        "df[df.Country=='Spain'][df.StockCode=='22423'].UnitPrice.mean()"
      ],
      "metadata": {
        "id": "alcvN-gCmYcb"
      },
      "id": "alcvN-gCmYcb",
      "execution_count": null,
      "outputs": []
    },
    {
      "cell_type": "markdown",
      "source": [
        "Let's calculate the average across all selected countries at once"
      ],
      "metadata": {
        "id": "rq8h3wDAKWQE"
      },
      "id": "rq8h3wDAKWQE"
    },
    {
      "cell_type": "code",
      "source": [
        "df[df.Country.isin(['Germany', 'France', 'United Kingdom'])][df.StockCode=='22423'][['Country', 'UnitPrice']]"
      ],
      "metadata": {
        "id": "pmiXkxxyBgar"
      },
      "id": "pmiXkxxyBgar",
      "execution_count": null,
      "outputs": []
    },
    {
      "cell_type": "markdown",
      "source": [
        "It's time to simplify the code. To avoid writing a large piece of code every time, let's store this structure in a variable:"
      ],
      "metadata": {
        "id": "NSgwKjodKwnF"
      },
      "id": "NSgwKjodKwnF"
    },
    {
      "cell_type": "code",
      "source": [
        "df_filtered = df[df.Country.isin(['Germany', 'France', 'United Kingdom'])][df.StockCode=='22423'][['Country', 'UnitPrice']]"
      ],
      "metadata": {
        "id": "BcFgnD-JDQQI"
      },
      "id": "BcFgnD-JDQQI",
      "execution_count": null,
      "outputs": []
    },
    {
      "cell_type": "code",
      "source": [
        "df[['Country', 'UnitPrice']]"
      ],
      "metadata": {
        "id": "Cp7-641U-OLM"
      },
      "id": "Cp7-641U-OLM",
      "execution_count": null,
      "outputs": []
    },
    {
      "cell_type": "markdown",
      "source": [
        "Let's display the country and its average purchase value of the product."
      ],
      "metadata": {
        "id": "N-WlbHAtDs6N"
      },
      "id": "N-WlbHAtDs6N"
    },
    {
      "cell_type": "code",
      "source": [
        "df_filtered"
      ],
      "metadata": {
        "id": "ubC53mMnD2ih"
      },
      "id": "ubC53mMnD2ih",
      "execution_count": null,
      "outputs": []
    },
    {
      "cell_type": "markdown",
      "source": [
        "Now let's GROUP THE DATA BY COUNTRY! Then we will calculate the aggregate function"
      ],
      "metadata": {
        "id": "RxyJOVhALdlN"
      },
      "id": "RxyJOVhALdlN"
    },
    {
      "cell_type": "code",
      "source": [
        "df_filtered.groupby('Country').mean()"
      ],
      "metadata": {
        "id": "q3tSOuiTEDzV"
      },
      "id": "q3tSOuiTEDzV",
      "execution_count": null,
      "outputs": []
    },
    {
      "cell_type": "markdown",
      "source": [
        "Without using a variable, it could look like this. Just writing everything directly for our variable df"
      ],
      "metadata": {
        "id": "v9DGzcheLwDu"
      },
      "id": "v9DGzcheLwDu"
    },
    {
      "cell_type": "code",
      "source": [
        "df[df.Country.isin(['Germany', 'France', 'United Kingdom'])][df.StockCode=='22423'][['Country', 'UnitPrice']].groupby('Country').mean()"
      ],
      "metadata": {
        "id": "WGswQMBfGS6D"
      },
      "id": "WGswQMBfGS6D",
      "execution_count": null,
      "outputs": []
    },
    {
      "cell_type": "markdown",
      "source": [
        "Or like this"
      ],
      "metadata": {
        "id": "clGLscibGjhV"
      },
      "id": "clGLscibGjhV"
    },
    {
      "cell_type": "code",
      "source": [
        "df[\n",
        "    df.Country.isin(['Germany', 'France', 'United Kingdom'])\n",
        "  ][df.StockCode=='22423'].groupby('Country').UnitPrice.mean()"
      ],
      "metadata": {
        "id": "4o44yE2WGlN-"
      },
      "id": "4o44yE2WGlN-",
      "execution_count": null,
      "outputs": []
    },
    {
      "cell_type": "markdown",
      "source": [
        "What is the average price of ALL products in the countries Germany, France, and the United Kingdom?"
      ],
      "metadata": {
        "id": "ztCtPv-8MELa"
      },
      "id": "ztCtPv-8MELa"
    },
    {
      "cell_type": "code",
      "source": [
        "df[df.Country.isin(['Germany', 'France', 'United Kingdom'])].groupby('Country').UnitPrice.mean()"
      ],
      "metadata": {
        "id": "x5O80guEmitv"
      },
      "id": "x5O80guEmitv",
      "execution_count": null,
      "outputs": []
    },
    {
      "cell_type": "markdown",
      "source": [
        "## Data sorting\n",
        "\n",
        "What is the cheapest product that is purchased in France?"
      ],
      "metadata": {
        "id": "efW0lOsSG9Vx"
      },
      "id": "efW0lOsSG9Vx"
    },
    {
      "cell_type": "code",
      "source": [
        "df[df.Country=='France'].sort_values(by='StockCode') #This is not enough! By which field do you want to sort?"
      ],
      "metadata": {
        "id": "88u9_ZLNHGW6"
      },
      "id": "88u9_ZLNHGW6",
      "execution_count": null,
      "outputs": []
    },
    {
      "cell_type": "code",
      "source": [
        "df[df.Country=='France'].sort_values(by='UnitPrice')"
      ],
      "metadata": {
        "id": "VW6SQ56JHLun"
      },
      "id": "VW6SQ56JHLun",
      "execution_count": null,
      "outputs": []
    },
    {
      "cell_type": "markdown",
      "source": [
        "Manual entries are not very interesting to us. Let's remove them from this analysis"
      ],
      "metadata": {
        "id": "qRrmb4CTHU-y"
      },
      "id": "qRrmb4CTHU-y"
    },
    {
      "cell_type": "code",
      "source": [
        "df[df.Country=='France'][df.StockCode!='M'].sort_values(by='UnitPrice')"
      ],
      "metadata": {
        "id": "aTsN2Bg0Hbq2"
      },
      "id": "aTsN2Bg0Hbq2",
      "execution_count": null,
      "outputs": []
    },
    {
      "cell_type": "markdown",
      "source": [
        "Let's save this DataFrame in a variable so that we can work with it another time"
      ],
      "metadata": {
        "id": "3YpjIXynHqhx"
      },
      "id": "3YpjIXynHqhx"
    },
    {
      "cell_type": "code",
      "source": [
        "df_fr_price_sorted = df[df.Country=='France'][df.StockCode!='M'].sort_values(by='UnitPrice')"
      ],
      "metadata": {
        "id": "UPVwjdlfHrJD"
      },
      "id": "UPVwjdlfHrJD",
      "execution_count": null,
      "outputs": []
    },
    {
      "cell_type": "markdown",
      "source": [
        "Let's sort in descending order:"
      ],
      "metadata": {
        "id": "X3WrDjxaK0OB"
      },
      "id": "X3WrDjxaK0OB"
    },
    {
      "cell_type": "code",
      "source": [
        "df_fr_price_sorted.sort_values(by='UnitPrice', ascending=False).iloc[0]"
      ],
      "metadata": {
        "id": "k43_ribOK3jZ"
      },
      "id": "k43_ribOK3jZ",
      "execution_count": null,
      "outputs": []
    },
    {
      "cell_type": "code",
      "source": [
        "df_fr_price_sorted"
      ],
      "metadata": {
        "id": "MuZINdqZwrDn"
      },
      "id": "MuZINdqZwrDn",
      "execution_count": null,
      "outputs": []
    },
    {
      "cell_type": "markdown",
      "source": [
        "Let's find the product that was purchased in the largest quantity in the DataFrame df_fr_price_sorted. We'll display the product and write a conclusion about which product it is (with which InvoiceId, StockCode)."
      ],
      "metadata": {
        "id": "2yQw5QUiNVJY"
      },
      "id": "2yQw5QUiNVJY"
    },
    {
      "cell_type": "code",
      "source": [
        "df_fr_price_sorted.sort_values('Quantity', ascending=False).iloc[0]"
      ],
      "metadata": {
        "id": "KrOfMMyyU99K"
      },
      "id": "KrOfMMyyU99K",
      "execution_count": null,
      "outputs": []
    },
    {
      "cell_type": "code",
      "source": [
        "df.to_csv('/content/drive/My Drive/mydata.csv', index=False)"
      ],
      "metadata": {
        "id": "Hf9nBw4KXAEQ"
      },
      "id": "Hf9nBw4KXAEQ",
      "execution_count": null,
      "outputs": []
    },
    {
      "cell_type": "code",
      "source": [
        "df_fr_price_sorted.to_csv('/content/drive/My Drive/online_retail_Fr_UnitPrice_sorted.csv')"
      ],
      "metadata": {
        "id": "qAB-KXe4H5Bu"
      },
      "id": "qAB-KXe4H5Bu",
      "execution_count": null,
      "outputs": []
    },
    {
      "cell_type": "code",
      "source": [
        "new_df = pd.read_csv('/content/drive/My Drive/online_retail_Fr_UnitPrice_sorted.csv', index_col=0)"
      ],
      "metadata": {
        "id": "zEf2CQHdIB8J"
      },
      "id": "zEf2CQHdIB8J",
      "execution_count": null,
      "outputs": []
    },
    {
      "cell_type": "code",
      "source": [
        "new_df.head()"
      ],
      "metadata": {
        "id": "4MwKlCoXIHae"
      },
      "id": "4MwKlCoXIHae",
      "execution_count": null,
      "outputs": []
    },
    {
      "cell_type": "markdown",
      "source": [
        "Attention! This file exists only in this session! You can either save it directly to your Google Drive or download the file locally and upload it to Google Drive manually."
      ],
      "metadata": {
        "id": "av7X14FWIeq0"
      },
      "id": "av7X14FWIeq0"
    },
    {
      "cell_type": "code",
      "source": [
        "df_fr_price_sorted.to_csv('/content/drive/MyDrive/online_retail_Fr_UnitPrice_sorted.csv')"
      ],
      "metadata": {
        "id": "u-BZIJyDIpiV"
      },
      "id": "u-BZIJyDIpiV",
      "execution_count": null,
      "outputs": []
    }
  ],
  "metadata": {
    "kernelspec": {
      "display_name": "Python 3",
      "name": "python3"
    },
    "language_info": {
      "codemirror_mode": {
        "name": "ipython",
        "version": 3
      },
      "file_extension": ".py",
      "mimetype": "text/x-python",
      "name": "python",
      "nbconvert_exporter": "python",
      "pygments_lexer": "ipython3",
      "version": "3.10.4"
    },
    "toc": {
      "base_numbering": 1,
      "nav_menu": {},
      "number_sections": true,
      "sideBar": true,
      "skip_h1_title": false,
      "title_cell": "Table of Contents",
      "title_sidebar": "Contents",
      "toc_cell": false,
      "toc_position": {},
      "toc_section_display": true,
      "toc_window_display": false
    },
    "colab": {
      "provenance": [],
      "private_outputs": true,
      "cell_execution_strategy": "setup",
      "include_colab_link": true
    }
  },
  "nbformat": 4,
  "nbformat_minor": 5
}